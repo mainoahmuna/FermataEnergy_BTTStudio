{
 "cells": [
  {
   "cell_type": "code",
   "execution_count": 1,
   "metadata": {},
   "outputs": [],
   "source": [
    "def plot_time_series(df_load, df_weather, bldg_id):\n",
    "    \"\"\"\n",
    "    Function to create a time series plot with energy consumption, temperature, and humidity.\n",
    "\n",
    "    Parameters:\n",
    "    - df_load (pd.DataFrame): DataFrame containing load data with 'timestamp' column.\n",
    "    - df_weather (pd.DataFrame): DataFrame containing weather data with 'date_time' column.\n",
    "    - bldg_id (str): Building ID for the plot title.\n",
    "    \"\"\"\n",
    "    # Convert 'timestamp' and 'date_time' columns to datetime\n",
    "    df_load['timestamp'] = pd.to_datetime(df_load['timestamp'])\n",
    "    df_weather['date_time'] = pd.to_datetime(df_weather['date_time'])\n",
    "\n",
    "    # Rename columns for merging\n",
    "    df_load.rename(columns={'timestamp': 'date_time'}, inplace=True)\n",
    "\n",
    "    # Merge dataframes on 'date_time'\n",
    "    df_merged = pd.merge(df_load, df_weather, on='date_time', how='inner')\n",
    "\n",
    "    # Melt the dataframe to long format for Plotly Express\n",
    "    df_long = df_merged.melt(id_vars='date_time',\n",
    "                             value_vars=['out.electricity.total.energy_consumption',\n",
    "                                         'Dry Bulb Temperature [°C]',\n",
    "                                         'Relative Humidity [%]'],\n",
    "                             var_name='Measurement',\n",
    "                             value_name='Value')\n",
    "\n",
    "    # Replace specific measurement names for legend\n",
    "    df_long['Measurement'] = df_long['Measurement'].replace(\n",
    "        'out.electricity.total.energy_consumption', 'Energy Consumption')\n",
    "\n",
    "    # Create time series plot with Plotly Express\n",
    "    fig = px.line(df_long, x='date_time', y='Value', color='Measurement',\n",
    "                  labels={'Value': 'Measurement', 'date_time': 'Time'},\n",
    "                  title=f\"Building: {bldg_id}\")\n",
    "\n",
    "    # Update layout for better y-axis management\n",
    "    fig.update_layout(\n",
    "        yaxis_title='Measurement',\n",
    "        yaxis=dict(title='Measurement'),\n",
    "        yaxis2=dict(\n",
    "            title='Temperature [°C]',\n",
    "            overlaying='y',\n",
    "            side='right',\n",
    "            anchor='x',\n",
    "            position=0.85\n",
    "        ),\n",
    "        yaxis3=dict(\n",
    "            title='Humidity [%]',\n",
    "            overlaying='y',\n",
    "            side='right',\n",
    "            anchor='x',\n",
    "            position=1\n",
    "        )\n",
    "    )\n",
    "\n",
    "    # Show plot\n",
    "    fig.show()"
   ]
  },
  {
   "cell_type": "code",
   "execution_count": null,
   "metadata": {},
   "outputs": [],
   "source": []
  }
 ],
 "metadata": {
  "kernelspec": {
   "display_name": "venv",
   "language": "python",
   "name": "python3"
  },
  "language_info": {
   "codemirror_mode": {
    "name": "ipython",
    "version": 3
   },
   "file_extension": ".py",
   "mimetype": "text/x-python",
   "name": "python",
   "nbconvert_exporter": "python",
   "pygments_lexer": "ipython3",
   "version": "3.10.14"
  }
 },
 "nbformat": 4,
 "nbformat_minor": 2
}
