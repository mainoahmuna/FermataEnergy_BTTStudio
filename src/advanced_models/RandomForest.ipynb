{
 "cells": [
  {
   "cell_type": "code",
   "execution_count": 1,
   "metadata": {},
   "outputs": [],
   "source": [
    "import pandas as pd\n",
    "import numpy as np\n",
    "import matplotlib.pyplot as plt\n",
    "import json\n",
    "from tqdm import tqdm\n",
    "\n",
    "from sklearn.ensemble import RandomForestRegressor"
   ]
  },
  {
   "cell_type": "code",
   "execution_count": 2,
   "metadata": {},
   "outputs": [],
   "source": [
    "# building_id = 32\n",
    "# subset_df = pd.read_csv('/Users/veronica/Library/CloudStorage/GoogleDrive-veronicahangsan@gmail.com/.shortcut-targets-by-id/1FsOPywSgK_wZmrVrSTBVi4q8G3Mg_yMJ/Team-Fermata-Energy/processed_data/subset20.csv')\n",
    "# processed_df = pd.read_csv(f'/Users/veronica/Library/CloudStorage/GoogleDrive-veronicahangsan@gmail.com/.shortcut-targets-by-id/1FsOPywSgK_wZmrVrSTBVi4q8G3Mg_yMJ/Team-Fermata-Energy/processed_data/processed_weather_load_w_timestamp/{building_id}.csv')\n",
    "\n",
    "\n",
    "md_path = '/Users/veronica/Library/CloudStorage/GoogleDrive-veronicahangsan@gmail.com/.shortcut-targets-by-id/1FsOPywSgK_wZmrVrSTBVi4q8G3Mg_yMJ/Team-Fermata-Energy/processed_data/md_one_hot_encoded_subset20.csv'\n",
    "PATH = '/Users/veronica/Library/CloudStorage/GoogleDrive-veronicahangsan@gmail.com/.shortcut-targets-by-id/1FsOPywSgK_wZmrVrSTBVi4q8G3Mg_yMJ/Team-Fermata-Energy/processed_data/processed_weather_load_w_timestamp/'\n",
    "json_file = '../data/subset20_20_data.json'"
   ]
  },
  {
   "cell_type": "code",
   "execution_count": 3,
   "metadata": {},
   "outputs": [],
   "source": [
    "md = pd.read_csv(md_path)\n",
    "with open(json_file, 'r') as file:\n",
    "    json_data = json.load(file)"
   ]
  },
  {
   "cell_type": "code",
   "execution_count": 4,
   "metadata": {},
   "outputs": [
    {
     "data": {
      "text/plain": [
       "<bound method NDFrame.head of       bldg_id  in.state  in.vintage   in.sqft  \\\n",
       "0      105885        10           3  750000.0   \n",
       "1      305819        40           2  150000.0   \n",
       "2      305934        40           4  350000.0   \n",
       "3      317044        40           3  350000.0   \n",
       "4          32         1           6   37500.0   \n",
       "...       ...       ...         ...       ...   \n",
       "6396   331879        42           1   37500.0   \n",
       "6397   331938        42           3   37500.0   \n",
       "6398   332036        42           3    3000.0   \n",
       "6399   332037        42           1   17500.0   \n",
       "6400   332051        42           2   37500.0   \n",
       "\n",
       "      in.building_america_climate_zone_Cold  \\\n",
       "0                                         0   \n",
       "1                                         0   \n",
       "2                                         0   \n",
       "3                                         0   \n",
       "4                                         0   \n",
       "...                                     ...   \n",
       "6396                                      0   \n",
       "6397                                      0   \n",
       "6398                                      0   \n",
       "6399                                      0   \n",
       "6400                                      0   \n",
       "\n",
       "      in.building_america_climate_zone_Hot-Dry  \\\n",
       "0                                            0   \n",
       "1                                            0   \n",
       "2                                            0   \n",
       "3                                            0   \n",
       "4                                            0   \n",
       "...                                        ...   \n",
       "6396                                         0   \n",
       "6397                                         0   \n",
       "6398                                         0   \n",
       "6399                                         0   \n",
       "6400                                         0   \n",
       "\n",
       "      in.building_america_climate_zone_Hot-Humid  \\\n",
       "0                                              1   \n",
       "1                                              1   \n",
       "2                                              1   \n",
       "3                                              1   \n",
       "4                                              0   \n",
       "...                                          ...   \n",
       "6396                                           0   \n",
       "6397                                           0   \n",
       "6398                                           0   \n",
       "6399                                           0   \n",
       "6400                                           0   \n",
       "\n",
       "      in.building_america_climate_zone_Marine  \\\n",
       "0                                           0   \n",
       "1                                           0   \n",
       "2                                           0   \n",
       "3                                           0   \n",
       "4                                           0   \n",
       "...                                       ...   \n",
       "6396                                        0   \n",
       "6397                                        0   \n",
       "6398                                        0   \n",
       "6399                                        0   \n",
       "6400                                        0   \n",
       "\n",
       "      in.building_america_climate_zone_Mixed-Dry  \\\n",
       "0                                              0   \n",
       "1                                              0   \n",
       "2                                              0   \n",
       "3                                              0   \n",
       "4                                              0   \n",
       "...                                          ...   \n",
       "6396                                           0   \n",
       "6397                                           0   \n",
       "6398                                           0   \n",
       "6399                                           0   \n",
       "6400                                           0   \n",
       "\n",
       "      in.building_america_climate_zone_Mixed-Humid  ...  \\\n",
       "0                                                0  ...   \n",
       "1                                                0  ...   \n",
       "2                                                0  ...   \n",
       "3                                                0  ...   \n",
       "4                                                1  ...   \n",
       "...                                            ...  ...   \n",
       "6396                                             1  ...   \n",
       "6397                                             1  ...   \n",
       "6398                                             1  ...   \n",
       "6399                                             1  ...   \n",
       "6400                                             1  ...   \n",
       "\n",
       "      in.service_water_heating_fuel_Electricity  \\\n",
       "0                                             0   \n",
       "1                                             1   \n",
       "2                                             1   \n",
       "3                                             1   \n",
       "4                                             0   \n",
       "...                                         ...   \n",
       "6396                                          1   \n",
       "6397                                          1   \n",
       "6398                                          1   \n",
       "6399                                          0   \n",
       "6400                                          0   \n",
       "\n",
       "      in.service_water_heating_fuel_FuelOil  \\\n",
       "0                                         0   \n",
       "1                                         0   \n",
       "2                                         0   \n",
       "3                                         0   \n",
       "4                                         0   \n",
       "...                                     ...   \n",
       "6396                                      0   \n",
       "6397                                      0   \n",
       "6398                                      0   \n",
       "6399                                      0   \n",
       "6400                                      0   \n",
       "\n",
       "      in.service_water_heating_fuel_NaturalGas  \\\n",
       "0                                            1   \n",
       "1                                            0   \n",
       "2                                            0   \n",
       "3                                            0   \n",
       "4                                            1   \n",
       "...                                        ...   \n",
       "6396                                         0   \n",
       "6397                                         0   \n",
       "6398                                         0   \n",
       "6399                                         1   \n",
       "6400                                         1   \n",
       "\n",
       "      in.service_water_heating_fuel_Propane  \\\n",
       "0                                         0   \n",
       "1                                         0   \n",
       "2                                         0   \n",
       "3                                         0   \n",
       "4                                         0   \n",
       "...                                     ...   \n",
       "6396                                      0   \n",
       "6397                                      0   \n",
       "6398                                      0   \n",
       "6399                                      0   \n",
       "6400                                      0   \n",
       "\n",
       "      in.comstock_building_type_group_Education  \\\n",
       "0                                             0   \n",
       "1                                             0   \n",
       "2                                             0   \n",
       "3                                             0   \n",
       "4                                             0   \n",
       "...                                         ...   \n",
       "6396                                          0   \n",
       "6397                                          0   \n",
       "6398                                          0   \n",
       "6399                                          0   \n",
       "6400                                          0   \n",
       "\n",
       "      in.comstock_building_type_group_Food Service  \\\n",
       "0                                                0   \n",
       "1                                                0   \n",
       "2                                                0   \n",
       "3                                                0   \n",
       "4                                                0   \n",
       "...                                            ...   \n",
       "6396                                             0   \n",
       "6397                                             0   \n",
       "6398                                             0   \n",
       "6399                                             0   \n",
       "6400                                             0   \n",
       "\n",
       "      in.comstock_building_type_group_Lodging  \\\n",
       "0                                           1   \n",
       "1                                           0   \n",
       "2                                           0   \n",
       "3                                           0   \n",
       "4                                           0   \n",
       "...                                       ...   \n",
       "6396                                        0   \n",
       "6397                                        0   \n",
       "6398                                        0   \n",
       "6399                                        0   \n",
       "6400                                        0   \n",
       "\n",
       "      in.comstock_building_type_group_Mercantile  \\\n",
       "0                                              0   \n",
       "1                                              0   \n",
       "2                                              0   \n",
       "3                                              0   \n",
       "4                                              0   \n",
       "...                                          ...   \n",
       "6396                                           1   \n",
       "6397                                           1   \n",
       "6398                                           0   \n",
       "6399                                           0   \n",
       "6400                                           1   \n",
       "\n",
       "      in.comstock_building_type_group_Office  \\\n",
       "0                                          0   \n",
       "1                                          1   \n",
       "2                                          1   \n",
       "3                                          1   \n",
       "4                                          0   \n",
       "...                                      ...   \n",
       "6396                                       0   \n",
       "6397                                       0   \n",
       "6398                                       1   \n",
       "6399                                       1   \n",
       "6400                                       0   \n",
       "\n",
       "      in.comstock_building_type_group_Warehouse and Storage  \n",
       "0                                                     0      \n",
       "1                                                     0      \n",
       "2                                                     0      \n",
       "3                                                     0      \n",
       "4                                                     1      \n",
       "...                                                 ...      \n",
       "6396                                                  0      \n",
       "6397                                                  0      \n",
       "6398                                                  0      \n",
       "6399                                                  0      \n",
       "6400                                                  0      \n",
       "\n",
       "[6401 rows x 40 columns]>"
      ]
     },
     "execution_count": 4,
     "metadata": {},
     "output_type": "execute_result"
    }
   ],
   "source": [
    "md.head"
   ]
  },
  {
   "cell_type": "code",
   "execution_count": 5,
   "metadata": {},
   "outputs": [
    {
     "data": {
      "text/plain": [
       "Index(['bldg_id', 'in.state', 'in.vintage', 'in.sqft',\n",
       "       'in.building_america_climate_zone_Cold',\n",
       "       'in.building_america_climate_zone_Hot-Dry',\n",
       "       'in.building_america_climate_zone_Hot-Humid',\n",
       "       'in.building_america_climate_zone_Marine',\n",
       "       'in.building_america_climate_zone_Mixed-Dry',\n",
       "       'in.building_america_climate_zone_Mixed-Humid',\n",
       "       'in.building_america_climate_zone_Subarctic',\n",
       "       'in.building_america_climate_zone_Very Cold', 'in.iso_rto_region_CAISO',\n",
       "       'in.iso_rto_region_ERCOT', 'in.iso_rto_region_MISO',\n",
       "       'in.iso_rto_region_NEISO', 'in.iso_rto_region_NYISO',\n",
       "       'in.iso_rto_region_PJM', 'in.iso_rto_region_SPP',\n",
       "       'in.iso_rto_region_none', 'in.heating_fuel_DistrictHeating',\n",
       "       'in.heating_fuel_Electricity', 'in.heating_fuel_FuelOil',\n",
       "       'in.heating_fuel_NaturalGas', 'in.heating_fuel_Propane',\n",
       "       'in.interior_lighting_generation_gen1_t12_incandescent',\n",
       "       'in.interior_lighting_generation_gen2_t8_halogen',\n",
       "       'in.interior_lighting_generation_gen3_t5_cfl',\n",
       "       'in.interior_lighting_generation_gen4_led',\n",
       "       'in.service_water_heating_fuel_DistrictHeating',\n",
       "       'in.service_water_heating_fuel_Electricity',\n",
       "       'in.service_water_heating_fuel_FuelOil',\n",
       "       'in.service_water_heating_fuel_NaturalGas',\n",
       "       'in.service_water_heating_fuel_Propane',\n",
       "       'in.comstock_building_type_group_Education',\n",
       "       'in.comstock_building_type_group_Food Service',\n",
       "       'in.comstock_building_type_group_Lodging',\n",
       "       'in.comstock_building_type_group_Mercantile',\n",
       "       'in.comstock_building_type_group_Office',\n",
       "       'in.comstock_building_type_group_Warehouse and Storage'],\n",
       "      dtype='object')"
      ]
     },
     "execution_count": 5,
     "metadata": {},
     "output_type": "execute_result"
    }
   ],
   "source": [
    "md.columns"
   ]
  },
  {
   "cell_type": "code",
   "execution_count": 6,
   "metadata": {},
   "outputs": [],
   "source": [
    "train_bldg_ids = json_data.get(\"train_bldg_ids\", [])\n",
    "test_bldg_ids = json_data.get(\"test_bldg_ids\", [])"
   ]
  },
  {
   "cell_type": "code",
   "execution_count": 7,
   "metadata": {},
   "outputs": [],
   "source": [
    "train_bldg_ids = [filename.split('.')[0] for filename in train_bldg_ids]\n",
    "test_bldg_ids = [filename.split('.')[0] for filename in test_bldg_ids]\n",
    "\n",
    "md['bldg_id'] = md['bldg_id'].astype(str).str.strip()"
   ]
  },
  {
   "cell_type": "code",
   "execution_count": 8,
   "metadata": {},
   "outputs": [],
   "source": [
    "education_buildings = md[md['in.comstock_building_type_group_Education'] == 1]\n",
    "education_bldg_ids = education_buildings['bldg_id'].unique()"
   ]
  },
  {
   "cell_type": "code",
   "execution_count": 9,
   "metadata": {},
   "outputs": [
    {
     "name": "stdout",
     "output_type": "stream",
     "text": [
      "Education Building IDs: ['1025' '3050' '3587' '5623' '5778' '6141' '7137' '10351' '12020' '13244']\n"
     ]
    }
   ],
   "source": [
    "print(f\"Education Building IDs: {education_bldg_ids[:10]}\")"
   ]
  },
  {
   "cell_type": "code",
   "execution_count": 10,
   "metadata": {},
   "outputs": [
    {
     "name": "stdout",
     "output_type": "stream",
     "text": [
      "Valid train buildings: {'300121', '33545', '140525', '172879', '175636', '308369', '324210', '329909', '317195', '109381', '160500', '15554', '239266', '197094', '302537', '68162', '216573', '76284', '122765', '141937', '147211', '184684', '129318', '99553', '320417', '200843', '130137', '256321', '51767', '129232', '286199', '138433', '304075', '260641', '202677', '241943', '222427', '132028', '130424', '49168', '317886', '85280', '222812', '131132', '82929', '157959', '104791', '5778', '91960', '282426', '286832', '178999', '297199', '32211', '97705', '257381', '28870', '232165', '200025', '115516', '196938', '116162', '100509', '233818', '242077', '313003', '268181', '41538', '224597', '290293', '330851', '105735', '315062', '46736', '142950', '18768', '157920', '87513', '185619', '146220', '202498', '39806', '166330', '112004', '324067', '198468', '306876', '132936', '143155', '229930', '220209', '5623', '191781', '40167', '325674', '38370', '173742', '235879', '309670', '142128', '183918', '114047', '296547', '325656', '13244', '174061', '258391', '195927', '100131', '10351', '300292', '213035', '236343', '175665', '175521', '193183', '325574', '177619', '40784', '76225'}\n",
      "Valid test buildings: {'144674', '232007', '78691', '36243', '146249', '186064', '171204', '177762', '235893', '29767', '34613', '248238', '84613', '235592', '7137', '77435', '258727', '1025', '307403', '177369', '241927', '145992', '230142', '186375', '82541', '325140', '297388', '240351', '100477', '188731', '317100', '191369', '6141'}\n"
     ]
    }
   ],
   "source": [
    "valid_train_bldgs = set(train_bldg_ids).intersection(education_bldg_ids)\n",
    "valid_test_bldgs = set(test_bldg_ids).intersection(education_bldg_ids)\n",
    "\n",
    "print(f\"Valid train buildings: {valid_train_bldgs}\")\n",
    "print(f\"Valid test buildings: {valid_test_bldgs}\")"
   ]
  },
  {
   "cell_type": "code",
   "execution_count": 11,
   "metadata": {},
   "outputs": [
    {
     "name": "stdout",
     "output_type": "stream",
     "text": [
      "Number of valid training buildings: 120\n",
      "Number of valid testing buildings: 33\n"
     ]
    }
   ],
   "source": [
    "print(f\"Number of valid training buildings: {len(valid_train_bldgs)}\")\n",
    "print(f\"Number of valid testing buildings: {len(valid_test_bldgs)}\")\n"
   ]
  },
  {
   "cell_type": "code",
   "execution_count": 12,
   "metadata": {},
   "outputs": [],
   "source": [
    "def load_data_for_building(filename, directory):\n",
    "    try:\n",
    "        file_path = f\"{directory}/{filename}.csv\"\n",
    "        print(f\"Loading file: {file_path}\")\n",
    "        df = pd.read_csv(file_path)\n",
    "        return df\n",
    "    except Exception as e:\n",
    "        print(f\"Error loading file {filename}: {e}\")\n",
    "        return None\n"
   ]
  },
  {
   "cell_type": "code",
   "execution_count": 13,
   "metadata": {},
   "outputs": [],
   "source": [
    "def prepare_data_for_building(df_load, md):\n",
    "    df_load['bldg_id'] = df_load['bldg_id'].astype(str)\n",
    "    md['bldg_id'] = md['bldg_id'].astype(str)\n",
    "\n",
    "    for i in range(1, 97):\n",
    "        df_load[f\"shift_{i}\"] = df_load[\"out.electricity.total.energy_consumption\"].shift(i)\n",
    "\n",
    "    if 'timestamp' in df_load.columns:\n",
    "        df_load['timestamp'] = pd.to_datetime(df_load['timestamp'])\n",
    "        \n",
    "        datetime_columns = {\n",
    "            'hour': df_load['timestamp'].dt.hour,\n",
    "            'day_of_week': df_load['timestamp'].dt.dayofweek,\n",
    "            'day_of_year': df_load['timestamp'].dt.dayofyear,\n",
    "            'month': df_load['timestamp'].dt.month,\n",
    "            'year': df_load['timestamp'].dt.year\n",
    "        }\n",
    "        \n",
    "        df_load = pd.concat([df_load, pd.DataFrame(datetime_columns)], axis=1)\n",
    "        df_load = df_load.drop(columns=['timestamp'])  # drop timestamp after extraction\n",
    "\n",
    "    merged_df = df_load.merge(md, on='bldg_id', how='left')\n",
    "    merged_df = merged_df.drop(['bldg_id'], axis=1)  # Drop building ID for model input\n",
    "\n",
    "    # drop missing values\n",
    "    merged_df = merged_df.dropna()\n",
    "    \n",
    "    return merged_df"
   ]
  },
  {
   "cell_type": "code",
   "execution_count": 14,
   "metadata": {},
   "outputs": [],
   "source": [
    "def smape(actual, predicted):\n",
    "    actual, predicted = np.array(actual), np.array(predicted)\n",
    "    denominator = np.abs(actual) + np.abs(predicted)\n",
    "    diff = np.abs(actual - predicted) / denominator\n",
    "    diff[denominator == 0] = 0.0\n",
    "    return 200 * np.mean(diff)"
   ]
  },
  {
   "cell_type": "code",
   "execution_count": 21,
   "metadata": {},
   "outputs": [],
   "source": [
    "def plot_results(y_test, y_pred):\n",
    "    plt.figure(figsize=(10, 6))\n",
    "    plt.plot(y_test.index, y_pred.values, label='Predicted', color='red', zorder=2)\n",
    "    plt.plot(y_test.index, y_test.values, label='Actual', color='blue', zorder=1)\n",
    "    plt.xlabel('Time')\n",
    "    plt.ylabel('Electricity Consumption')\n",
    "    plt.title('Random Forest: Actual vs Predicted Electricity Consumption')\n",
    "    plt.legend()\n",
    "    plt.show()"
   ]
  },
  {
   "cell_type": "code",
   "execution_count": 22,
   "metadata": {},
   "outputs": [],
   "source": [
    "def train_random_forest_model(directory, valid_train_bldgs, valid_test_bldgs, target_column='out.electricity.total.energy_consumption'):\n",
    "    smape_train_list = []\n",
    "    smape_test_list = []\n",
    "\n",
    "    model = RandomForestRegressor(n_estimators=100, random_state=42)\n",
    "\n",
    "    # test specific building (329909)\n",
    "    building_to_test = '329909'\n",
    "    print(f\"Training on building: {building_to_test}\")\n",
    "\n",
    "    train_df = load_data_for_building(building_to_test, directory)\n",
    "    if train_df is not None and target_column in train_df:\n",
    "        print(f\"Data loaded for {building_to_test}\")\n",
    "        \n",
    "        train_df_prepared = prepare_data_for_building(train_df, md)\n",
    "        \n",
    "        if train_df_prepared is not None and len(train_df_prepared) > 0:\n",
    "            print(f\"Data prepared for {building_to_test}\")\n",
    "\n",
    "            X_train = train_df_prepared.drop(columns=[target_column])\n",
    "            y_train = train_df_prepared[target_column]\n",
    "\n",
    "            # train Random Forest model\n",
    "            model.fit(X_train, y_train)\n",
    "            print(f\"Model trained on {building_to_test}\")\n",
    "\n",
    "            # predictions for training data\n",
    "            y_train_pred = model.predict(X_train)\n",
    "\n",
    "            # SMAPE for training data\n",
    "            smape_train = smape(y_train, y_train_pred)\n",
    "            smape_train_list.append(smape_train)\n",
    "            print(f\"SMAPE for {building_to_test}: {smape_train}\")\n",
    "\n",
    "            y_train_pred_series = pd.Series(y_train_pred, index=y_train.index)\n",
    "            \n",
    "            # plot actual vs predicted\n",
    "            plot_results(y_train, y_train_pred_series)\n",
    "\n",
    "\n",
    "        else:\n",
    "            print(f\"Prepared data is empty for {building_to_test}\")\n",
    "    else:\n",
    "        print(f\"Skipping {building_to_test} due to missing data\")\n",
    "\n",
    "    return smape_train_list, smape_test_list"
   ]
  },
  {
   "cell_type": "code",
   "execution_count": 23,
   "metadata": {},
   "outputs": [
    {
     "name": "stdout",
     "output_type": "stream",
     "text": [
      "Training on building: 329909\n",
      "Loading file: /Users/veronica/Library/CloudStorage/GoogleDrive-veronicahangsan@gmail.com/.shortcut-targets-by-id/1FsOPywSgK_wZmrVrSTBVi4q8G3Mg_yMJ/Team-Fermata-Energy/processed_data/processed_weather_load_w_timestamp//329909.csv\n",
      "Data loaded for 329909\n",
      "Data prepared for 329909\n",
      "Model trained on 329909\n",
      "SMAPE for 329909: 1.4779328044820594\n"
     ]
    },
    {
     "data": {
      "image/png": "[encoded data removed]",
      "text/plain": [
       "<Figure size 1000x600 with 1 Axes>"
      ]
     },
     "metadata": {},
     "output_type": "display_data"
    },
    {
     "name": "stdout",
     "output_type": "stream",
     "text": [
      "Training SMAPE scores: [1.4779328044820594]\n",
      "Testing SMAPE scores: []\n"
     ]
    }
   ],
   "source": [
    "smape_train_list, smape_test_list = train_random_forest_model(PATH, valid_train_bldgs, valid_test_bldgs)\n",
    "\n",
    "# Output the results\n",
    "print(f\"Training SMAPE scores: {smape_train_list}\")\n",
    "print(f\"Testing SMAPE scores: {smape_test_list}\")"
   ]
  }
 ],
 "metadata": {
  "kernelspec": {
   "display_name": "Python 3",
   "language": "python",
   "name": "python3"
  },
  "language_info": {
   "codemirror_mode": {
    "name": "ipython",
    "version": 3
   },
   "file_extension": ".py",
   "mimetype": "text/x-python",
   "name": "python",
   "nbconvert_exporter": "python",
   "pygments_lexer": "ipython3",
   "version": "3.11.5"
  }
 },
 "nbformat": 4,
 "nbformat_minor": 2
}
