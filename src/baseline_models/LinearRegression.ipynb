{
 "cells": [
  {
   "cell_type": "code",
   "execution_count": 30,
   "metadata": {
    "id": "1rjvNpcPzAzm"
   },
   "outputs": [],
   "source": [
    "import pandas as pd\n",
    "import numpy as np\n",
    "from sklearn.linear_model import SGDRegressor\n",
    "from sklearn.preprocessing import StandardScaler\n",
    "from glob import glob\n",
    "from tqdm import tqdm\n",
    "from sklearn.model_selection import train_test_split\n",
    "import json\n",
    "import os\n"
   ]
  },
  {
   "cell_type": "code",
   "execution_count": 31,
   "metadata": {
    "id": "sPyiSi4TvP37"
   },
   "outputs": [],
   "source": [
    "df = pd.read_csv('/Users/mainoahmuna/Google Drive/My Drive/Team-Fermata-Energy/processed_data/processed_weather_and_load/32.csv')"
   ]
  },
  {
   "cell_type": "code",
   "execution_count": 39,
   "metadata": {},
   "outputs": [],
   "source": [
    "subset20split = '/Users/mainoahmuna/Downloads/Projects/FermataEnergy_BTTStudio/src/data/subset20_data.json'"
   ]
  },
  {
   "cell_type": "code",
   "execution_count": 29,
   "metadata": {},
   "outputs": [],
   "source": [
    "PATH = '/Users/mainoahmuna/Google Drive/My Drive/Team-Fermata-Energy/processed_data/processed_weather_and_load/'"
   ]
  },
  {
   "cell_type": "code",
   "execution_count": 8,
   "metadata": {
    "colab": {
     "base_uri": "https://localhost:8080/",
     "height": 261
    },
    "id": "uXSjE71SzaiL",
    "outputId": "6b4c67e3-69da-421b-8765-ebdb290b521c"
   },
   "outputs": [
    {
     "data": {
      "text/html": [
       "<div>\n",
       "<style scoped>\n",
       "    .dataframe tbody tr th:only-of-type {\n",
       "        vertical-align: middle;\n",
       "    }\n",
       "\n",
       "    .dataframe tbody tr th {\n",
       "        vertical-align: top;\n",
       "    }\n",
       "\n",
       "    .dataframe thead th {\n",
       "        text-align: right;\n",
       "    }\n",
       "</style>\n",
       "<table border=\"1\" class=\"dataframe\">\n",
       "  <thead>\n",
       "    <tr style=\"text-align: right;\">\n",
       "      <th></th>\n",
       "      <th>Index</th>\n",
       "      <th>out.electricity.total.energy_consumption</th>\n",
       "      <th>Dry Bulb Temperature [°C]</th>\n",
       "      <th>Relative Humidity [%]</th>\n",
       "      <th>heat_index</th>\n",
       "      <th>hour</th>\n",
       "      <th>month</th>\n",
       "      <th>is_weekday</th>\n",
       "      <th>is_holiday</th>\n",
       "      <th>max_load_hourly</th>\n",
       "      <th>max_temp_hourly</th>\n",
       "      <th>min_temp_hourly</th>\n",
       "      <th>bldg_id</th>\n",
       "    </tr>\n",
       "  </thead>\n",
       "  <tbody>\n",
       "    <tr>\n",
       "      <th>0</th>\n",
       "      <td>0</td>\n",
       "      <td>5.420033</td>\n",
       "      <td>-6.10</td>\n",
       "      <td>42.781847</td>\n",
       "      <td>21.02</td>\n",
       "      <td>1</td>\n",
       "      <td>1</td>\n",
       "      <td>1</td>\n",
       "      <td>0</td>\n",
       "      <td>5.476113</td>\n",
       "      <td>-6.1</td>\n",
       "      <td>-6.55</td>\n",
       "      <td>32</td>\n",
       "    </tr>\n",
       "    <tr>\n",
       "      <th>1</th>\n",
       "      <td>1</td>\n",
       "      <td>5.476113</td>\n",
       "      <td>-6.25</td>\n",
       "      <td>43.350762</td>\n",
       "      <td>20.75</td>\n",
       "      <td>1</td>\n",
       "      <td>1</td>\n",
       "      <td>1</td>\n",
       "      <td>0</td>\n",
       "      <td>5.476113</td>\n",
       "      <td>-6.1</td>\n",
       "      <td>-6.55</td>\n",
       "      <td>32</td>\n",
       "    </tr>\n",
       "    <tr>\n",
       "      <th>2</th>\n",
       "      <td>2</td>\n",
       "      <td>5.476113</td>\n",
       "      <td>-6.40</td>\n",
       "      <td>43.919676</td>\n",
       "      <td>20.48</td>\n",
       "      <td>1</td>\n",
       "      <td>1</td>\n",
       "      <td>1</td>\n",
       "      <td>0</td>\n",
       "      <td>5.476113</td>\n",
       "      <td>-6.1</td>\n",
       "      <td>-6.55</td>\n",
       "      <td>32</td>\n",
       "    </tr>\n",
       "    <tr>\n",
       "      <th>3</th>\n",
       "      <td>3</td>\n",
       "      <td>5.476113</td>\n",
       "      <td>-6.55</td>\n",
       "      <td>44.488591</td>\n",
       "      <td>20.21</td>\n",
       "      <td>1</td>\n",
       "      <td>1</td>\n",
       "      <td>1</td>\n",
       "      <td>0</td>\n",
       "      <td>5.476113</td>\n",
       "      <td>-6.1</td>\n",
       "      <td>-6.55</td>\n",
       "      <td>32</td>\n",
       "    </tr>\n",
       "    <tr>\n",
       "      <th>4</th>\n",
       "      <td>4</td>\n",
       "      <td>5.476113</td>\n",
       "      <td>-6.70</td>\n",
       "      <td>45.057505</td>\n",
       "      <td>19.94</td>\n",
       "      <td>2</td>\n",
       "      <td>1</td>\n",
       "      <td>1</td>\n",
       "      <td>0</td>\n",
       "      <td>5.476113</td>\n",
       "      <td>-6.7</td>\n",
       "      <td>-6.70</td>\n",
       "      <td>32</td>\n",
       "    </tr>\n",
       "  </tbody>\n",
       "</table>\n",
       "</div>"
      ],
      "text/plain": [
       "   Index  out.electricity.total.energy_consumption  Dry Bulb Temperature [°C]  \\\n",
       "0      0                                  5.420033                      -6.10   \n",
       "1      1                                  5.476113                      -6.25   \n",
       "2      2                                  5.476113                      -6.40   \n",
       "3      3                                  5.476113                      -6.55   \n",
       "4      4                                  5.476113                      -6.70   \n",
       "\n",
       "   Relative Humidity [%]  heat_index  hour  month  is_weekday  is_holiday  \\\n",
       "0              42.781847       21.02     1      1           1           0   \n",
       "1              43.350762       20.75     1      1           1           0   \n",
       "2              43.919676       20.48     1      1           1           0   \n",
       "3              44.488591       20.21     1      1           1           0   \n",
       "4              45.057505       19.94     2      1           1           0   \n",
       "\n",
       "   max_load_hourly  max_temp_hourly  min_temp_hourly  bldg_id  \n",
       "0         5.476113             -6.1            -6.55       32  \n",
       "1         5.476113             -6.1            -6.55       32  \n",
       "2         5.476113             -6.1            -6.55       32  \n",
       "3         5.476113             -6.1            -6.55       32  \n",
       "4         5.476113             -6.7            -6.70       32  "
      ]
     },
     "execution_count": 8,
     "metadata": {},
     "output_type": "execute_result"
    }
   ],
   "source": [
    "df.head()"
   ]
  },
  {
   "cell_type": "code",
   "execution_count": 9,
   "metadata": {},
   "outputs": [
    {
     "data": {
      "text/plain": [
       "(35037, 13)"
      ]
     },
     "execution_count": 9,
     "metadata": {},
     "output_type": "execute_result"
    }
   ],
   "source": [
    "df.shape"
   ]
  },
  {
   "cell_type": "code",
   "execution_count": 10,
   "metadata": {
    "id": "bSKAPs36zk_5"
   },
   "outputs": [],
   "source": [
    "buildings = df['bldg_id'].tolist()"
   ]
  },
  {
   "cell_type": "code",
   "execution_count": 11,
   "metadata": {},
   "outputs": [],
   "source": [
    "def smape(y_true, y_pred):\n",
    "    \"\"\"\n",
    "    Calculate Symmetric Mean Absolute Percentage Error (SMAPE).\n",
    "\n",
    "    Parameters:\n",
    "        y_true (array-like): True values.\n",
    "        y_pred (array-like): Predicted values.\n",
    "\n",
    "    Returns:\n",
    "        float: SMAPE value.\n",
    "    \"\"\"\n",
    "    numerator = np.abs(y_true - y_pred)\n",
    "    denominator = (np.abs(y_true) + np.abs(y_pred)) / 2\n",
    "    smape_value = np.mean(numerator / denominator) * 100\n",
    "    return smape_value"
   ]
  },
  {
   "cell_type": "code",
   "execution_count": 12,
   "metadata": {},
   "outputs": [],
   "source": [
    "def create_Y_X(df_load):\n",
    "    \"\"\"\n",
    "    Create Y and X variables for linear regression model.\n",
    "\n",
    "    Parameters:\n",
    "        df_load (pandas.DataFrame): DataFrame containing load data.\n",
    "\n",
    "    Returns:\n",
    "        tuple: Tuple containing Y and X variables.  \n",
    "    \"\"\"\n",
    "    for i in range(1, 97):\n",
    "        df_load[f\"shift_{i}\"] = df[\"out.electricity.total.energy_consumption\"].shift(i)\n",
    "\n",
    "    df_load = df_load.dropna()\n",
    "\n",
    "    Y = df_load['out.electricity.total.energy_consumption']\n",
    "    X = df_load.drop(['out.electricity.total.energy_consumption', 'Index', 'bldg_id'], axis=1)\n",
    "    \n",
    "    scaler = StandardScaler()\n",
    "    X_scaled = scaler.fit_transform(X)\n",
    "    \n",
    "    return Y, X_scaled"
   ]
  },
  {
   "cell_type": "code",
   "execution_count": 13,
   "metadata": {},
   "outputs": [],
   "source": [
    "Y, X = create_Y_X(df)"
   ]
  },
  {
   "cell_type": "code",
   "execution_count": 43,
   "metadata": {
    "id": "yeqESu7bnNXx"
   },
   "outputs": [],
   "source": [
    "def train_sgd_regressor(directory, split_file, target_column='out.electricity.total.energy_consumption', chunk_size=1000):\n",
    "    \"\"\"\n",
    "    Train the SGD Regressor model using data from building CSV files, using a predefined train/test split.\n",
    "\n",
    "    Parameters:\n",
    "        directory (str): Path to the directory containing building CSV files.\n",
    "        split_file (str): Path to the JSON file with predefined train and test split.\n",
    "        target_column (str): The name of the target column.\n",
    "        chunk_size (int): Number of rows to process in each chunk.\n",
    "\n",
    "    Returns:\n",
    "        model: Trained model.\n",
    "        test_files: List of test files used.\n",
    "        avg_train_smape: Average SMAPE across all training buildings.\n",
    "        avg_test_smape: Average SMAPE across all test buildings.\n",
    "    \"\"\"\n",
    "    model = SGDRegressor()\n",
    "\n",
    "    # Load predefined train and test splits from JSON file\n",
    "    with open(split_file, 'r') as file:\n",
    "        split_data = json.load(file)\n",
    "        train_files = [f\"{directory}/{file_id}\" for file_id in split_data['train_bldg_ids']]\n",
    "        test_files = [f\"{directory}/{file_id}\" for file_id in split_data['test_bldg_ids']]\n",
    "\n",
    "    # Lists to store individual SMAPE scores for training and testing\n",
    "    train_smape_list = []\n",
    "    test_smape_list = []\n",
    "\n",
    "    # Training phase: loop over the training set files\n",
    "    for filename in tqdm(train_files, desc=\"Training on buildings\", unit=\"file\"):\n",
    "        try:\n",
    "            for chunk in pd.read_csv(filename, chunksize=chunk_size):\n",
    "                Y, X = create_Y_X(chunk)\n",
    "\n",
    "                # Train the model with the current chunk\n",
    "                model.partial_fit(X, Y)\n",
    "\n",
    "                # Calculate SMAPE on the training chunk and store it\n",
    "                Y_pred_train = model.predict(X)\n",
    "                smape_train = smape(Y, Y_pred_train)\n",
    "                train_smape_list.append(smape_train)\n",
    "\n",
    "        except Exception as e:\n",
    "            print(f\"Error processing file {filename}: {e}\")\n",
    "            continue  # Skip to the next file if there's an error\n",
    "\n",
    "    # Testing phase: loop over the test set files\n",
    "    for filename in tqdm(test_files, desc=\"Testing on buildings\", unit=\"file\"):\n",
    "        try:\n",
    "            for chunk in pd.read_csv(filename, chunksize=chunk_size):\n",
    "                Y, X = create_Y_X(chunk)\n",
    "\n",
    "                # Make predictions on the current chunk\n",
    "                Y_pred = model.predict(X)\n",
    "\n",
    "                # Compute SMAPE for the current test building\n",
    "                smape_value = smape(Y, Y_pred)\n",
    "                test_smape_list.append(smape_value)\n",
    "\n",
    "        except Exception as e:\n",
    "            print(f\"Error processing file {filename}: {e}\")\n",
    "            continue  # Skip to the next file if there's an error\n",
    "\n",
    "    # Compute average SMAPE for training and testing\n",
    "    avg_train_smape = np.mean(train_smape_list)\n",
    "    avg_test_smape = np.mean(test_smape_list)\n",
    "\n",
    "    return model, test_files, avg_train_smape, avg_test_smape"
   ]
  },
  {
   "cell_type": "code",
   "execution_count": 44,
   "metadata": {
    "colab": {
     "base_uri": "https://localhost:8080/"
    },
    "id": "VqZWhJknowgN",
    "outputId": "68219059-3db1-4a63-b319-beeb6775556f"
   },
   "outputs": [
    {
     "name": "stderr",
     "output_type": "stream",
     "text": [
      "Training on buildings: 100%|██████████| 5120/5120 [55:05<00:00,  1.55file/s] \n",
      "Testing on buildings: 100%|██████████| 1281/1281 [13:05<00:00,  1.63file/s]\n"
     ]
    }
   ],
   "source": [
    "model, testfiles, avg_train_smape, avg_test_smape = train_sgd_regressor(PATH, subset20split)"
   ]
  },
  {
   "cell_type": "markdown",
   "metadata": {},
   "source": [
    "## Linear Regression:\n",
    "Average Test SMAPE: 86.93336613657864\n",
    "\n",
    "Average Train SMAPE: 52.37481315660798"
   ]
  },
  {
   "cell_type": "code",
   "execution_count": 45,
   "metadata": {},
   "outputs": [
    {
     "name": "stdout",
     "output_type": "stream",
     "text": [
      "86.93336613657864\n"
     ]
    }
   ],
   "source": [
    "print(avg_test_smape)"
   ]
  },
  {
   "cell_type": "code",
   "execution_count": 46,
   "metadata": {},
   "outputs": [
    {
     "name": "stdout",
     "output_type": "stream",
     "text": [
      "52.37481315660798\n"
     ]
    }
   ],
   "source": [
    "print(avg_train_smape)"
   ]
  },
  {
   "cell_type": "code",
   "execution_count": null,
   "metadata": {},
   "outputs": [],
   "source": []
  }
 ],
 "metadata": {
  "accelerator": "GPU",
  "colab": {
   "gpuType": "T4",
   "provenance": []
  },
  "kernelspec": {
   "display_name": "venv",
   "language": "python",
   "name": "python3"
  },
  "language_info": {
   "codemirror_mode": {
    "name": "ipython",
    "version": 3
   },
   "file_extension": ".py",
   "mimetype": "text/x-python",
   "name": "python",
   "nbconvert_exporter": "python",
   "pygments_lexer": "ipython3",
   "version": "3.10.14"
  }
 },
 "nbformat": 4,
 "nbformat_minor": 0
}
