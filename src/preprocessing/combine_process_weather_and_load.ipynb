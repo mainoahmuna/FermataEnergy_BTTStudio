{
 "cells": [
  {
   "cell_type": "markdown",
   "id": "45209b4b-535a-4e65-b19c-3ae182aa3886",
   "metadata": {},
   "source": [
    "# Combine weather.csv and load.csv for all buildings\n",
    "\n",
    "Creates a csv for each building with combined weather and load columns, as well as columns for heat index, minute, hour, day, month, year, is_weekend, is_holiday, max and min hourly load, max and min temperature, and building id. Outputs each csv to the shared team drive.\n",
    "\n",
    "The output csvs are located in the drive folder 'Team-Fermata-Energy/processed_data/processed_weather_load_w_timestamp' and the name of each csv is the building id.\n",
    "\n",
    "Author: Riley Denn\n",
    "\n",
    "Code modified from teammate Victoria Worthington's utils_tester.ipynb"
   ]
  },
  {
   "cell_type": "code",
   "execution_count": 2,
   "id": "cfd102da-4960-4bf4-bdcf-c7355a99d63a",
   "metadata": {},
   "outputs": [],
   "source": [
    "import pandas as pd\n",
    "import numpy as np\n",
    "import json\n",
    "import os\n",
    "from sklearn.model_selection import train_test_split\n",
    "import metpy.calc as mpcalc\n",
    "from metpy.units import units\n",
    "import holidays"
   ]
  },
  {
   "cell_type": "code",
   "execution_count": 6,
   "id": "b5e56f88-e91e-4c7f-b2e7-13a4e237df15",
   "metadata": {},
   "outputs": [],
   "source": [
    "with open('../../config.json', 'r') as config_file:\n",
    "    config = json.load(config_file)\n",
    "\n",
    "DRIVE_PATH = config['drive_path']\n",
    "EXTERNAL_DATA_PATH = DRIVE_PATH + \"/[EXTERNAL] breakthrough_tech_ai_f24/data\"\n",
    "PROCESSED_DATA_PATH = DRIVE_PATH + \"/processed_data\"\n",
    "PROCESSED_WEATHER_LOAD = PROCESSED_DATA_PATH + \"/processed_weather_load_w_timestamp\""
   ]
  },
  {
   "cell_type": "code",
   "execution_count": 7,
   "id": "ea601710-3a10-4a7c-ad77-11c8b31fee65",
   "metadata": {},
   "outputs": [],
   "source": [
    "def process_building_data(bldg, external_data_path, us_holidays={date for date in holidays.US(years=2018)}, save_csv=False, processed_data_path=''):\n",
    "    \"\"\"\n",
    "    Process weather and load data for a single building.\n",
    "    \n",
    "    Parameters:\n",
    "        bldg (str): Building identifier.\n",
    "        external_data_path (str): Path to the external data files.\n",
    "        us_holidays (set of datetime.date): A set of US holiday dates for the relevant year(s).\n",
    "        save_csv: bool for whether or not to save the processed dataframe to a csv\n",
    "        processed_data_path (str): path to save processed data csv to\n",
    "        \n",
    "        Note: If save_csv=True, processed_data_path must be a valid path name.\n",
    "        \n",
    "    Returns:\n",
    "        pd.DataFrame: Processed DataFrame for the given building.\n",
    "    \"\"\"\n",
    "    weather_path = external_data_path + \"/building_data/\" + bldg + \"/weather.csv\"\n",
    "    load_path = external_data_path + \"/building_data/\" + bldg + \"/load.csv\"\n",
    "\n",
    "    # Read weather and load data for the building\n",
    "    df_weather = pd.read_csv(weather_path)\n",
    "    df_load = pd.read_csv(load_path)\n",
    "\n",
    "    # Renaming 'date_time' to 'timestamp'\n",
    "    df_weather.rename(columns={'date_time': 'timestamp'}, inplace=True)\n",
    "\n",
    "    # Convert 'timestamp' to datetime\n",
    "    df_weather['timestamp'] = pd.to_datetime(df_weather['timestamp'])\n",
    "    df_load['timestamp'] = pd.to_datetime(df_load['timestamp'])\n",
    "\n",
    "    # Resample weather data to 15-minute intervals and interpolate missing values\n",
    "    df_weather = df_weather.set_index('timestamp').resample('15min').asfreq().interpolate(method='linear').reset_index()\n",
    "\n",
    "    # Add heat index to weather data\n",
    "    df_weather['heat_index'] = mpcalc.heat_index(\n",
    "        df_weather['Dry Bulb Temperature [°C]'].values * units.degC,\n",
    "        df_weather['Relative Humidity [%]'].values * units.percent\n",
    "    )\n",
    "\n",
    "    # Merge weather and load data\n",
    "    df_merged = pd.merge(df_load, df_weather, on='timestamp', how='inner')\n",
    "\n",
    "    # Add time-based features\n",
    "    df_merged['minute'] = df_merged['timestamp'].dt.minute\n",
    "    df_merged['hour'] = df_merged['timestamp'].dt.hour\n",
    "    df_merged['day'] = df_merged['timestamp'].dt.day\n",
    "    df_merged['month'] = df_merged['timestamp'].dt.month\n",
    "\n",
    "    # Add weekday/weekend binary indicator\n",
    "    df_merged['is_weekday'] = (df_merged['timestamp'].dt.dayofweek < 5).astype(int)\n",
    "\n",
    "    # Add US holidays binary indicator\n",
    "    df_merged['is_holiday'] = (df_merged['timestamp'].dt.date.isin(us_holidays)).astype(int)\n",
    "\n",
    "    # Calculate max hourly load and max and min temperature\n",
    "    df_merged['max_load_hourly'] = df_merged.groupby(['hour', 'day', 'month'])['out.electricity.total.energy_consumption'].transform('max')\n",
    "    df_merged['min_load_hourly'] = df_merged.groupby(['hour', 'day', 'month'])['out.electricity.total.energy_consumption'].transform('min')\n",
    "    df_merged['max_temp_hourly'] = df_merged.groupby(['hour', 'day', 'month'])['Dry Bulb Temperature [°C]'].transform('max')\n",
    "    df_merged['min_temp_hourly'] = df_merged.groupby(['hour', 'day', 'month'])['Dry Bulb Temperature [°C]'].transform('min')\n",
    "\n",
    "    df_merged['bldg_id'] = int(bldg)\n",
    "    \n",
    "    # Save the processed data (optional)\n",
    "    if save_csv:\n",
    "        output_path = f\"{processed_data_path}/{bldg}.csv\"\n",
    "        df_merged.to_csv(output_path, index=False)\n",
    "\n",
    "    # Return the processed DataFrame\n",
    "    return df_merged\n"
   ]
  },
  {
   "cell_type": "code",
   "execution_count": 8,
   "id": "d75f9c28-f3d2-4f6f-89c9-4efbaccbf135",
   "metadata": {},
   "outputs": [],
   "source": [
    "all_bldg_ids = set(os.listdir(EXTERNAL_DATA_PATH+\"/building_data\")) # ex: {'12345', ...}\n",
    "\n",
    "already_processed = set(os.listdir(PROCESSED_WEATHER_LOAD)) # ex: {'12345.csv', ...}\n",
    "\n",
    "subset20 = pd.read_csv(PROCESSED_DATA_PATH+\"/subset20.csv\")\n",
    "subset_ids = {str(id) for id in subset20['bldg_id']}  # ex: {'12345', ...}"
   ]
  },
  {
   "cell_type": "code",
   "execution_count": 9,
   "id": "3103fff6-0323-4cd2-a1ea-786d567a7f1b",
   "metadata": {},
   "outputs": [],
   "source": [
    "us_holidays = {date for date in holidays.US(years=2018)}"
   ]
  },
  {
   "cell_type": "code",
   "execution_count": 12,
   "id": "54222994-d98a-45f9-8f92-f478ec88f066",
   "metadata": {},
   "outputs": [
    {
     "data": {
      "text/html": [
       "<div>\n",
       "<style scoped>\n",
       "    .dataframe tbody tr th:only-of-type {\n",
       "        vertical-align: middle;\n",
       "    }\n",
       "\n",
       "    .dataframe tbody tr th {\n",
       "        vertical-align: top;\n",
       "    }\n",
       "\n",
       "    .dataframe thead th {\n",
       "        text-align: right;\n",
       "    }\n",
       "</style>\n",
       "<table border=\"1\" class=\"dataframe\">\n",
       "  <thead>\n",
       "    <tr style=\"text-align: right;\">\n",
       "      <th></th>\n",
       "      <th>timestamp</th>\n",
       "      <th>out.electricity.total.energy_consumption</th>\n",
       "      <th>Dry Bulb Temperature [°C]</th>\n",
       "      <th>Relative Humidity [%]</th>\n",
       "      <th>heat_index</th>\n",
       "      <th>minute</th>\n",
       "      <th>hour</th>\n",
       "      <th>day</th>\n",
       "      <th>month</th>\n",
       "      <th>is_weekday</th>\n",
       "      <th>is_holiday</th>\n",
       "      <th>max_load_hourly</th>\n",
       "      <th>min_load_hourly</th>\n",
       "      <th>max_temp_hourly</th>\n",
       "      <th>min_temp_hourly</th>\n",
       "      <th>bldg_id</th>\n",
       "    </tr>\n",
       "  </thead>\n",
       "  <tbody>\n",
       "    <tr>\n",
       "      <th>34368</th>\n",
       "      <td>2018-12-25 01:00:00</td>\n",
       "      <td>18.625848</td>\n",
       "      <td>8.925</td>\n",
       "      <td>96.01581</td>\n",
       "      <td>47.084243</td>\n",
       "      <td>0</td>\n",
       "      <td>1</td>\n",
       "      <td>25</td>\n",
       "      <td>12</td>\n",
       "      <td>1</td>\n",
       "      <td>1</td>\n",
       "      <td>20.287458</td>\n",
       "      <td>18.625848</td>\n",
       "      <td>8.925</td>\n",
       "      <td>8.90625</td>\n",
       "      <td>23856</td>\n",
       "    </tr>\n",
       "  </tbody>\n",
       "</table>\n",
       "</div>"
      ],
      "text/plain": [
       "                timestamp  out.electricity.total.energy_consumption  \\\n",
       "34368 2018-12-25 01:00:00                                 18.625848   \n",
       "\n",
       "       Dry Bulb Temperature [°C]  Relative Humidity [%]  heat_index  minute  \\\n",
       "34368                      8.925               96.01581   47.084243       0   \n",
       "\n",
       "       hour  day  month  is_weekday  is_holiday  max_load_hourly  \\\n",
       "34368     1   25     12           1           1        20.287458   \n",
       "\n",
       "       min_load_hourly  max_temp_hourly  min_temp_hourly  bldg_id  \n",
       "34368        18.625848            8.925          8.90625    23856  "
      ]
     },
     "execution_count": 12,
     "metadata": {},
     "output_type": "execute_result"
    }
   ],
   "source": [
    "sample_df = process_building_data(\n",
    "    next(iter(all_bldg_ids)), EXTERNAL_DATA_PATH, us_holidays,\n",
    "    save_csv=True, processed_data_path=PROCESSED_WEATHER_LOAD)\n",
    "sample_df[sample_df['timestamp']=='2018-12-25 01:00:00']"
   ]
  },
  {
   "cell_type": "code",
   "execution_count": 13,
   "id": "9022b68d-2c0d-4866-93c8-77f0b8f05be4",
   "metadata": {},
   "outputs": [
    {
     "data": {
      "text/plain": [
       "timestamp                                   datetime64[ns]\n",
       "out.electricity.total.energy_consumption           float64\n",
       "Dry Bulb Temperature [°C]                          float64\n",
       "Relative Humidity [%]                              float64\n",
       "heat_index                                         float64\n",
       "minute                                               int32\n",
       "hour                                                 int32\n",
       "day                                                  int32\n",
       "month                                                int32\n",
       "is_weekday                                           int64\n",
       "is_holiday                                           int64\n",
       "max_load_hourly                                    float64\n",
       "min_load_hourly                                    float64\n",
       "max_temp_hourly                                    float64\n",
       "min_temp_hourly                                    float64\n",
       "bldg_id                                              int64\n",
       "dtype: object"
      ]
     },
     "execution_count": 13,
     "metadata": {},
     "output_type": "execute_result"
    }
   ],
   "source": [
    "sample_df.dtypes"
   ]
  },
  {
   "cell_type": "code",
   "execution_count": null,
   "id": "dd848269-082e-4e0a-a6fb-943a63fffaeb",
   "metadata": {},
   "outputs": [],
   "source": [
    "already_processed = set(os.listdir(PROCESSED_WEATHER_LOAD)) # ex: {'12345.csv', ...}\n",
    "\n",
    "to_process = all_bldg_ids - already_processed\n",
    "\n",
    "# Loop through all buildings that have yet to be processed and process them\n",
    "for bldg in to_process:\n",
    "    process_building_data(\n",
    "        bldg, EXTERNAL_DATA_PATH, us_holidays, \n",
    "        save_csv=True, processed_data_path=PROCESSED_WEATHER_LOAD\n",
    "    )"
   ]
  },
  {
   "cell_type": "code",
   "execution_count": null,
   "id": "55d4f529-76f7-4e4b-bfcb-d5d5285dbd2b",
   "metadata": {},
   "outputs": [],
   "source": []
  }
 ],
 "metadata": {
  "kernelspec": {
   "display_name": "fermataVenv",
   "language": "python",
   "name": "fermatavenv"
  },
  "language_info": {
   "codemirror_mode": {
    "name": "ipython",
    "version": 3
   },
   "file_extension": ".py",
   "mimetype": "text/x-python",
   "name": "python",
   "nbconvert_exporter": "python",
   "pygments_lexer": "ipython3",
   "version": "3.12.5"
  }
 },
 "nbformat": 4,
 "nbformat_minor": 5
}
