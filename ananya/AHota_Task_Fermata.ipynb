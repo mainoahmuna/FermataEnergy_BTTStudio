{
 "cells": [
  {
   "cell_type": "code",
   "execution_count": null,
   "metadata": {},
   "outputs": [],
   "source": [
    "import pandas as pd\n",
    "import numpy as np\n",
    "import plotly.express as px\n",
    "from sklearn.preprocessing import LabelEncoder, OneHotEncoder\n",
    "import plotly.graph_objects as go\n",
    "import os\n",
    "from google.colab import drive\n",
    "drive_path = (\"/Users/ananyahota/Library/CloudStorage/GoogleDrive-ananya.hota.ah@gmail.com/\"\n",
    "             \".shortcut-targets-by-id/1FsOPywSgK_wZmrVrSTBVi4q8G3Mg_yMJ/Team-Fermata-Energy\")\n",
    "path = drive_path + \"/[EXTERNAL] breakthrough_tech_ai_f24/data\"\n",
    "folder_path = path + \"/building_data\"\n",
    "md = pd.read_csv(path + '/metadata.csv')\n",
    "\n",
    "existing_ids = set()\n",
    "\n",
    "for folder_name in os.listdir(folder_path):\n",
    "    try:\n",
    "        existing_ids.add(int(folder_name)) \n",
    "    except ValueError:\n",
    "        continue  \n",
    "\n",
    "md = md[md['bldg_id'].isin(existing_ids)]\n",
    "\n",
    "print(md.shape)\n",
    "print(md.columns)\n",
    "\n",
    "print(md.head())"
   ]
  },
  {
   "cell_type": "code",
   "execution_count": null,
   "metadata": {},
   "outputs": [],
   "source": [
    "missing_data_mask = md.isnull()\n",
    "print(\"Missing Data Mask:\")\n",
    "print(missing_data_mask)\n",
    "\n",
    "if 'in.sqft' in md.columns:\n",
    "    Q1 = md['in.sqft'].quantile(0.25)\n",
    "    Q3 = md['in.sqft'].quantile(0.75)\n",
    "    IQR = Q3 - Q1\n",
    "\n",
    "    outlier_mask_sqft = (md['in.sqft'] < (Q1 - 1.5 * IQR)) | (md['in.sqft'] > (Q3 + 1.5 * IQR))\n",
    "\n",
    "    print(\"Outlier Mask for 'in.sqft':\")\n",
    "    print(outlier_mask_sqft)\n",
    "\n",
    "    combined_mask = missing_data_mask.copy()\n",
    "    combined_mask['in.sqft'] = combined_mask['in.sqft'] | outlier_mask_sqft\n",
    "\n",
    "    print(\"Combined Mask for Missing Data and Outliers:\")\n",
    "    print(combined_mask)\n",
    "else:\n",
    "    print(\"'in.sqft' column not found in the dataset.\")"
   ]
  }
 ],
 "metadata": {
  "language_info": {
   "name": "python"
  }
 },
 "nbformat": 4,
 "nbformat_minor": 2
}
